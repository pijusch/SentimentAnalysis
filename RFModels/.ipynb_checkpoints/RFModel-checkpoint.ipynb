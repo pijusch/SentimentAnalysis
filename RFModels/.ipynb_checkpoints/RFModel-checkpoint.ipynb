{
 "cells": [
  {
   "cell_type": "code",
   "execution_count": 2,
   "metadata": {},
   "outputs": [
    {
     "ename": "ModuleNotFoundError",
     "evalue": "No module named 'util'",
     "output_type": "error",
     "traceback": [
      "\u001b[0;31m---------------------------------------------------------------------------\u001b[0m",
      "\u001b[0;31mModuleNotFoundError\u001b[0m                       Traceback (most recent call last)",
      "\u001b[0;32m<ipython-input-2-5bb89124b09d>\u001b[0m in \u001b[0;36m<module>\u001b[0;34m\u001b[0m\n\u001b[1;32m      1\u001b[0m \u001b[0;32mimport\u001b[0m \u001b[0msys\u001b[0m\u001b[0;34m\u001b[0m\u001b[0m\n\u001b[1;32m      2\u001b[0m \u001b[0msys\u001b[0m\u001b[0;34m.\u001b[0m\u001b[0mpath\u001b[0m\u001b[0;34m.\u001b[0m\u001b[0mappend\u001b[0m\u001b[0;34m(\u001b[0m\u001b[0;34m'../util'\u001b[0m\u001b[0;34m)\u001b[0m\u001b[0;34m\u001b[0m\u001b[0m\n\u001b[0;32m----> 3\u001b[0;31m \u001b[0;32mimport\u001b[0m \u001b[0mutil\u001b[0m\u001b[0;34m\u001b[0m\u001b[0m\n\u001b[0m\u001b[1;32m      4\u001b[0m \u001b[0;32mfrom\u001b[0m \u001b[0mnumpy\u001b[0m \u001b[0;32mimport\u001b[0m \u001b[0marray\u001b[0m\u001b[0;34m\u001b[0m\u001b[0m\n\u001b[1;32m      5\u001b[0m \u001b[0;32mfrom\u001b[0m \u001b[0msklearn\u001b[0m\u001b[0;34m.\u001b[0m\u001b[0mensemble\u001b[0m \u001b[0;32mimport\u001b[0m \u001b[0mRandomForestClassifier\u001b[0m\u001b[0;34m\u001b[0m\u001b[0m\n",
      "\u001b[0;31mModuleNotFoundError\u001b[0m: No module named 'util'"
     ]
    }
   ],
   "source": [
    "import sys\n",
    "sys.path.append('../util')\n",
    "from BagOfWords import util\n",
    "from numpy import array\n",
    "from sklearn.ensemble import RandomForestClassifier\n",
    "from sklearn.model_selection import KFold\n",
    "from sklearn.metrics import accuracy_score\n",
    "\n",
    "### Main ###\n",
    "vocabFile = 'vocab.txt'\n",
    "vocab = loadFile(vocabFile)\n",
    "vocab = vocab.split()\n",
    "vocab = set(vocab)\n",
    "\n",
    "print(\"Loading data sets...\")\n",
    "\n",
    "#Training set\n",
    "dataset = \"dataset_2\" #Change data set here: dataset_1 or dataset_2\n",
    "\n",
    "pos_reviews = util.loadReviews('../data_sets/' + dataset + '/pos', vocab, True)\n",
    "neg_reviews = util.loadReviews('../data_sets/' + dataset + '/neg', vocab, True)\n",
    "train_rev = pos_reviews+neg_reviews\n",
    "\n",
    "y_train = array([0 for _ in range(900)] + [1 for _ in range(900)])\n",
    "\n",
    "#Testing Set\n",
    "pos_reviews = util.loadReviews('../data_sets/' + dataset + '/pos', vocab, False)\n",
    "neg_reviews = util.loadReviews('../data_sets/' + dataset + '/neg', vocab, False)\n",
    "test_rev = pos_reviews+neg_reviews\n",
    "\n",
    "y_test = array([0 for _ in range(100)] + [1 for _ in range(100)])\n",
    "\n",
    "#Train Random Forest\n",
    "RForest = RandomForestClassifier(n_estimators=15, criterion=\"gini\", max_depth=None, min_samples_split=2, max_features=\"sqrt\")\n",
    "RForest.fit(x_train, y_train)\n",
    "\n",
    "# Make predictions on unseen test data\n",
    "predictions = RForest.predict(x_test)\n",
    "print(\"Accuracy: {}%\".format(RForest.score(x_test, y_test) * 100 ))\n",
    "    \n",
    "\n",
    "\n",
    "\n"
   ]
  },
  {
   "cell_type": "code",
   "execution_count": null,
   "metadata": {},
   "outputs": [],
   "source": []
  },
  {
   "cell_type": "code",
   "execution_count": null,
   "metadata": {},
   "outputs": [],
   "source": []
  }
 ],
 "metadata": {
  "kernelspec": {
   "display_name": "Python 3",
   "language": "python",
   "name": "python3"
  },
  "language_info": {
   "codemirror_mode": {
    "name": "ipython",
    "version": 3
   },
   "file_extension": ".py",
   "mimetype": "text/x-python",
   "name": "python",
   "nbconvert_exporter": "python",
   "pygments_lexer": "ipython3",
   "version": "3.6.4"
  }
 },
 "nbformat": 4,
 "nbformat_minor": 2
}
