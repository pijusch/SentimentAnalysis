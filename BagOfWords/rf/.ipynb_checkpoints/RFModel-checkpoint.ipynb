{
 "cells": [
  {
   "cell_type": "code",
   "execution_count": 52,
   "metadata": {
    "scrolled": false
   },
   "outputs": [
    {
     "name": "stdout",
     "output_type": "stream",
     "text": [
      "Loading data sets...\n",
      "[1 0 0 0 0 0 0 0 1 0 0 0 0 0 0 0 0 0 0 0 0 1 0 0 0 0 0 0 0 0 1 0 0 0 0 0 1\n",
      " 1 0 0 0 0 0 0 0 0 1 0 0 0 0 0 0 0 0 0 0 0 1 0 1 0 0 0 0 0 0 0 0 0 1 0 1 0\n",
      " 0 0 0 0 0 0 0 0 0 0 0 0 1 0 0 1 0 0 1 0 0 1 0 0 0 0 0 1 0 0 1 1 1 1 0 1 0\n",
      " 1 1 1 1 1 1 0 1 0 1 0 1 1 1 1 1 1 1 1 1 1 1 1 1 0 1 1 1 1 1 0 1 0 1 1 1 1\n",
      " 1 1 0 1 1 1 1 1 1 1 1 1 1 1 1 0 1 0 1 1 1 1 0 1 1 1 1 1 1 1 1 1 1 0 1 1 1\n",
      " 0 1 1 1 1 1 1 1 1 1 0 1 1 1 1]\n",
      "Accuracy: 83.5%\n"
     ]
    }
   ],
   "source": [
    "import sys\n",
    "sys.path.append('/Users/christopherluikart/Documents/SentimentAnalysis/BagOfWords')\n",
    "import util\n",
    "from numpy import array\n",
    "from sklearn.ensemble import RandomForestClassifier\n",
    "from sklearn.model_selection import KFold\n",
    "from sklearn.metrics import accuracy_score\n",
    "from keras.preprocessing.text import Tokenizer\n",
    "\n",
    "### Main ###\n",
    "vocabFile = 'vocab.txt'\n",
    "vocab = util.loadFile(vocabFile)\n",
    "vocab = vocab.split()\n",
    "vocab = set(vocab)\n",
    "\n",
    "print(\"Loading data sets...\")\n",
    "\n",
    "#Training set\n",
    "dataset = \"dataset_1\" #Change data set here: dataset_1 or dataset_2\n",
    "\n",
    "pos_reviews = util.loadReviews('../data_sets/' + dataset + '/pos', vocab, True)\n",
    "neg_reviews = util.loadReviews('../data_sets/' + dataset + '/neg', vocab, True)\n",
    "train_rev = pos_reviews+neg_reviews\n",
    "    \n",
    "y_train = array([0 for _ in range(900)] + [1 for _ in range(900)])\n",
    "\n",
    "#Testing Set\n",
    "pos_reviews = util.loadReviews('../data_sets/' + dataset + '/pos', vocab, False)\n",
    "neg_reviews = util.loadReviews('../data_sets/' + dataset + '/neg', vocab, False)\n",
    "test_rev = pos_reviews+neg_reviews\n",
    "\n",
    "y_test = array([0 for _ in range(100)] + [1 for _ in range(100)])\n",
    "\n",
    "#Tokenize and encode data\n",
    "tokenizer = Tokenizer()\n",
    "tokenizer.fit_on_texts(train_rev)\n",
    "x_train = tokenizer.texts_to_matrix(train_rev, mode='binary')\n",
    "x_test = tokenizer.texts_to_matrix(test_rev, mode='binary')\n",
    "\n",
    "#Train Random Forest\n",
    "RForest = RandomForestClassifier(n_estimators=100, criterion=\"entropy\", max_depth=None, min_samples_split=2, max_features=\"sqrt\")\n",
    "RForest.fit(x_train, y_train)\n",
    "\n",
    "# Make predictions on unseen test data\n",
    "predictions = RForest.predict(x_test)\n",
    "print(predictions)\n",
    "\n",
    "def scoreModel(predictions, values):\n",
    "    score = 0\n",
    "    for prediction, value in zip(predictions, values):\n",
    "        if prediction == value:\n",
    "            score = score + 1\n",
    "    \n",
    "    score = score/len(predictions)\n",
    "    \n",
    "    return score*100\n",
    "        \n",
    "score = scoreModel(predictions, y_test)\n",
    "print(\"Accuracy: {}%\".format(score))\n",
    "    \n",
    "\n",
    "\n",
    "\n"
   ]
  },
  {
   "cell_type": "code",
   "execution_count": null,
   "metadata": {},
   "outputs": [],
   "source": []
  },
  {
   "cell_type": "code",
   "execution_count": null,
   "metadata": {},
   "outputs": [],
   "source": []
  }
 ],
 "metadata": {
  "kernelspec": {
   "display_name": "Python 3",
   "language": "python",
   "name": "python3"
  },
  "language_info": {
   "codemirror_mode": {
    "name": "ipython",
    "version": 3
   },
   "file_extension": ".py",
   "mimetype": "text/x-python",
   "name": "python",
   "nbconvert_exporter": "python",
   "pygments_lexer": "ipython3",
   "version": "3.6.4"
  }
 },
 "nbformat": 4,
 "nbformat_minor": 2
}
