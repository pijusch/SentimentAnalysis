{
 "cells": [
  {
   "cell_type": "code",
   "execution_count": 32,
   "metadata": {},
   "outputs": [
    {
     "name": "stdout",
     "output_type": "stream",
     "text": [
      "Loading data sets...\n",
      "Training the classifier...\n",
      "Training Complete!\n",
      "Accuracy: 88.0%\n"
     ]
    }
   ],
   "source": [
    "import sys\n",
    "sys.path.append('../util')\n",
    "import util #preprocessing\n",
    "from keras.preprocessing.text import Tokenizer\n",
    "from numpy import array\n",
    "\n",
    "\n",
    "### Main ###\n",
    "vocabFile = 'vocab.txt'\n",
    "vocab = util.loadFile(vocabFile)\n",
    "vocab = vocab.split()\n",
    "vocab = set(vocab)\n",
    "\n",
    "print(\"Loading data sets...\")\n",
    "\n",
    "#Training set\n",
    "dataset = \"dataset_2\" #Change data set here: dataset_1 or dataset_2\n",
    "\n",
    "pos_reviews = util.loadReviews('../data_sets/' + dataset + '/pos', vocab, True)\n",
    "neg_reviews = util.loadReviews('../data_sets/' + dataset + '/neg', vocab, True)\n",
    "train_rev = pos_reviews+neg_reviews\n",
    "\n",
    "#Testing Set\n",
    "pos_reviews = util.loadReviews('../data_sets/' + dataset + '/pos', vocab, False)\n",
    "neg_reviews = util.loadReviews('../data_sets/' + dataset + '/neg', vocab, False)\n",
    "test_rev = pos_reviews+neg_reviews\n",
    "\n",
    "#Labels\n",
    "y_train = array([0 for _ in range(900)] + [1 for _ in range(900)])\n",
    "y_test = array([0 for _ in range(100)] + [1 for _ in range(100)])\n",
    "\n",
    "from sklearn import svm\n",
    "from sklearn.metrics import accuracy_score\n",
    "\n",
    "#SVM:\n",
    "clf = svm.LinearSVC(C=40, class_weight=None, dual=True, fit_intercept=True,\n",
    "     intercept_scaling=1, loss='squared_hinge', max_iter=10000,\n",
    "     multi_class='crammer_singer', penalty='l2', random_state=None, tol=0.001,\n",
    "     verbose=0)\n",
    "print(\"Training the classifier...\");\n",
    "\n",
    "# Train classifier \n",
    "clf.fit(x_train, y_train)\n",
    "print(\"Training Complete!\");\n",
    "\n",
    "# Make predictions on unseen test data\n",
    "clf_predictions = clf.predict(x_test)\n",
    "print(\"Accuracy: {}%\".format(accuracy_score(y_test, clf_predictions) * 100 ))\n"
   ]
  }
 ],
 "metadata": {
  "kernelspec": {
   "display_name": "Python 3",
   "language": "python",
   "name": "python3"
  },
  "language_info": {
   "codemirror_mode": {
    "name": "ipython",
    "version": 3
   },
   "file_extension": ".py",
   "mimetype": "text/x-python",
   "name": "python",
   "nbconvert_exporter": "python",
   "pygments_lexer": "ipython3",
   "version": "3.6.4"
  }
 },
 "nbformat": 4,
 "nbformat_minor": 2
}
